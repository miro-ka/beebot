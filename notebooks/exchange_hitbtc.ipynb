{
  "nbformat": 4,
  "nbformat_minor": 0,
  "metadata": {
    "colab": {
      "name": "exchange_hitbtc.ipynb",
      "provenance": [],
      "authorship_tag": "ABX9TyPvUj28/yLuVo9Df5Bn1NNE",
      "include_colab_link": true
    },
    "kernelspec": {
      "name": "python3",
      "display_name": "Python 3"
    }
  },
  "cells": [
    {
      "cell_type": "markdown",
      "metadata": {
        "id": "view-in-github",
        "colab_type": "text"
      },
      "source": [
        "<a href=\"https://colab.research.google.com/github/miro-ka/genemu-bot/blob/master/notebooks/exchange_hitbtc.ipynb\" target=\"_parent\"><img src=\"https://colab.research.google.com/assets/colab-badge.svg\" alt=\"Open In Colab\"/></a>"
      ]
    },
    {
      "cell_type": "markdown",
      "metadata": {
        "id": "NtqjSIoliIft",
        "colab_type": "text"
      },
      "source": [
        "# Quick peek into HITBTC API \n",
        "\n",
        " - Part of [genemu-bot](https://github.com/miro-ka/genemu-bot)\n",
        " - [HitBTC Exchange](https://hitbtc.com/)\n",
        " - [hit-API](https://github.com/hitbtc-com/hitbtc-api)"
      ]
    },
    {
      "cell_type": "code",
      "metadata": {
        "id": "Ds9sLqRZlkrq",
        "colab_type": "code",
        "colab": {}
      },
      "source": [
        ""
      ],
      "execution_count": null,
      "outputs": []
    }
  ]
}