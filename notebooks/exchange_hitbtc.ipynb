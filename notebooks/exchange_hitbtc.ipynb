{
  "nbformat": 4,
  "nbformat_minor": 0,
  "metadata": {
    "colab": {
      "name": "exchange_hitbtc.ipynb",
      "provenance": [],
      "authorship_tag": "ABX9TyN87UDbl83VvsY5h6h7mh4f",
      "include_colab_link": true
    },
    "kernelspec": {
      "name": "python3",
      "display_name": "Python 3"
    }
  },
  "cells": [
    {
      "cell_type": "markdown",
      "metadata": {
        "id": "view-in-github",
        "colab_type": "text"
      },
      "source": [
        "<a href=\"https://colab.research.google.com/github/miro-ka/genemu-bot/blob/master/notebooks/exchange_hitbtc.ipynb\" target=\"_parent\"><img src=\"https://colab.research.google.com/assets/colab-badge.svg\" alt=\"Open In Colab\"/></a>"
      ]
    },
    {
      "cell_type": "markdown",
      "metadata": {
        "id": "NtqjSIoliIft",
        "colab_type": "text"
      },
      "source": [
        "# Quick peek into HITBTC API \n",
        "\n",
        " - Part of [genemu-bot](https://github.com/miro-ka/genemu-bot)\n",
        " - [HitBTC Exchange](https://hitbtc.com/)\n",
        " - [hit-API](https://github.com/hitbtc-com/hitbtc-api)"
      ]
    },
    {
      "cell_type": "code",
      "metadata": {
        "id": "rAG4jLdQnwvE",
        "colab_type": "code",
        "colab": {}
      },
      "source": [
        "import pandas as pd\n",
        "import seaborn as sns"
      ],
      "execution_count": 17,
      "outputs": []
    },
    {
      "cell_type": "code",
      "metadata": {
        "id": "q-dcGPsvoVuF",
        "colab_type": "code",
        "colab": {}
      },
      "source": [
        "HITBTC_ROOT_URL = \"https://api.hitbtc.com/api/2/\""
      ],
      "execution_count": 7,
      "outputs": []
    },
    {
      "cell_type": "markdown",
      "metadata": {
        "id": "iDXnjQlgpSBQ",
        "colab_type": "text"
      },
      "source": [
        "## Public API"
      ]
    },
    {
      "cell_type": "markdown",
      "metadata": {
        "id": "3g8ZD55YpaWJ",
        "colab_type": "text"
      },
      "source": [
        "### Currencies\n"
      ]
    },
    {
      "cell_type": "code",
      "metadata": {
        "id": "qcKGl0vCo6FU",
        "colab_type": "code",
        "colab": {}
      },
      "source": [
        "df_curr = pd.read_json(HITBTC_ROOT_URL + \"public/currency\")"
      ],
      "execution_count": 35,
      "outputs": []
    },
    {
      "cell_type": "code",
      "metadata": {
        "id": "dvDSTtVppEe7",
        "colab_type": "code",
        "colab": {
          "base_uri": "https://localhost:8080/",
          "height": 163
        },
        "outputId": "198f7d54-0bb0-4583-ee0e-cfdb02c4cb40"
      },
      "source": [
        "df_curr.sample(3)"
      ],
      "execution_count": 36,
      "outputs": [
        {
          "output_type": "execute_result",
          "data": {
            "text/html": [
              "<div>\n",
              "<style scoped>\n",
              "    .dataframe tbody tr th:only-of-type {\n",
              "        vertical-align: middle;\n",
              "    }\n",
              "\n",
              "    .dataframe tbody tr th {\n",
              "        vertical-align: top;\n",
              "    }\n",
              "\n",
              "    .dataframe thead th {\n",
              "        text-align: right;\n",
              "    }\n",
              "</style>\n",
              "<table border=\"1\" class=\"dataframe\">\n",
              "  <thead>\n",
              "    <tr style=\"text-align: right;\">\n",
              "      <th></th>\n",
              "      <th>id</th>\n",
              "      <th>fullName</th>\n",
              "      <th>crypto</th>\n",
              "      <th>payinEnabled</th>\n",
              "      <th>payinPaymentId</th>\n",
              "      <th>payinConfirmations</th>\n",
              "      <th>payoutEnabled</th>\n",
              "      <th>payoutIsPaymentId</th>\n",
              "      <th>transferEnabled</th>\n",
              "      <th>delisted</th>\n",
              "      <th>payoutFee</th>\n",
              "      <th>payoutMinimalAmount</th>\n",
              "      <th>precisionPayout</th>\n",
              "      <th>precisionTransfer</th>\n",
              "    </tr>\n",
              "  </thead>\n",
              "  <tbody>\n",
              "    <tr>\n",
              "      <th>376</th>\n",
              "      <td>HMQ</td>\n",
              "      <td>Humaniq</td>\n",
              "      <td>True</td>\n",
              "      <td>True</td>\n",
              "      <td>False</td>\n",
              "      <td>10</td>\n",
              "      <td>True</td>\n",
              "      <td>False</td>\n",
              "      <td>True</td>\n",
              "      <td>False</td>\n",
              "      <td>1890.00</td>\n",
              "      <td>0</td>\n",
              "      <td>8</td>\n",
              "      <td>8</td>\n",
              "    </tr>\n",
              "    <tr>\n",
              "      <th>107</th>\n",
              "      <td>TIV</td>\n",
              "      <td>TIV</td>\n",
              "      <td>True</td>\n",
              "      <td>False</td>\n",
              "      <td>True</td>\n",
              "      <td>20</td>\n",
              "      <td>False</td>\n",
              "      <td>True</td>\n",
              "      <td>True</td>\n",
              "      <td>False</td>\n",
              "      <td>238.51</td>\n",
              "      <td>0</td>\n",
              "      <td>5</td>\n",
              "      <td>5</td>\n",
              "    </tr>\n",
              "    <tr>\n",
              "      <th>82</th>\n",
              "      <td>UGT</td>\n",
              "      <td>UG Token</td>\n",
              "      <td>True</td>\n",
              "      <td>False</td>\n",
              "      <td>False</td>\n",
              "      <td>2</td>\n",
              "      <td>False</td>\n",
              "      <td>False</td>\n",
              "      <td>True</td>\n",
              "      <td>False</td>\n",
              "      <td>15.00</td>\n",
              "      <td>0</td>\n",
              "      <td>8</td>\n",
              "      <td>8</td>\n",
              "    </tr>\n",
              "  </tbody>\n",
              "</table>\n",
              "</div>"
            ],
            "text/plain": [
              "      id  fullName  ...  precisionPayout  precisionTransfer\n",
              "376  HMQ   Humaniq  ...                8                  8\n",
              "107  TIV       TIV  ...                5                  5\n",
              "82   UGT  UG Token  ...                8                  8\n",
              "\n",
              "[3 rows x 14 columns]"
            ]
          },
          "metadata": {
            "tags": []
          },
          "execution_count": 36
        }
      ]
    },
    {
      "cell_type": "code",
      "metadata": {
        "id": "I6lgdlFOnuoE",
        "colab_type": "code",
        "colab": {
          "base_uri": "https://localhost:8080/",
          "height": 35
        },
        "outputId": "efbe35d9-3b34-4b52-e01e-b83df993d993"
      },
      "source": [
        "print(\"Total number of currencies:\", len(df_curr))"
      ],
      "execution_count": 37,
      "outputs": [
        {
          "output_type": "stream",
          "text": [
            "Total number of currencies: 643\n"
          ],
          "name": "stdout"
        }
      ]
    },
    {
      "cell_type": "code",
      "metadata": {
        "id": "csRxBcJmq2oS",
        "colab_type": "code",
        "colab": {
          "base_uri": "https://localhost:8080/",
          "height": 143
        },
        "outputId": "9acaf5a3-35f6-4fe5-eff6-ddc735c6b7bc"
      },
      "source": [
        "# crypto vs. ICO/fiat\n",
        "df_curr.groupby(by=\"crypto\").count()[['id']]"
      ],
      "execution_count": 27,
      "outputs": [
        {
          "output_type": "execute_result",
          "data": {
            "text/html": [
              "<div>\n",
              "<style scoped>\n",
              "    .dataframe tbody tr th:only-of-type {\n",
              "        vertical-align: middle;\n",
              "    }\n",
              "\n",
              "    .dataframe tbody tr th {\n",
              "        vertical-align: top;\n",
              "    }\n",
              "\n",
              "    .dataframe thead th {\n",
              "        text-align: right;\n",
              "    }\n",
              "</style>\n",
              "<table border=\"1\" class=\"dataframe\">\n",
              "  <thead>\n",
              "    <tr style=\"text-align: right;\">\n",
              "      <th></th>\n",
              "      <th>id</th>\n",
              "    </tr>\n",
              "    <tr>\n",
              "      <th>crypto</th>\n",
              "      <th></th>\n",
              "    </tr>\n",
              "  </thead>\n",
              "  <tbody>\n",
              "    <tr>\n",
              "      <th>False</th>\n",
              "      <td>3</td>\n",
              "    </tr>\n",
              "    <tr>\n",
              "      <th>True</th>\n",
              "      <td>640</td>\n",
              "    </tr>\n",
              "  </tbody>\n",
              "</table>\n",
              "</div>"
            ],
            "text/plain": [
              "         id\n",
              "crypto     \n",
              "False     3\n",
              "True    640"
            ]
          },
          "metadata": {
            "tags": []
          },
          "execution_count": 27
        }
      ]
    },
    {
      "cell_type": "code",
      "metadata": {
        "id": "WC0IOOX2rKER",
        "colab_type": "code",
        "colab": {
          "base_uri": "https://localhost:8080/",
          "height": 163
        },
        "outputId": "3ab1b029-d64a-44e3-f9f7-3184bcd69415"
      },
      "source": [
        "df_curr[df_curr['crypto'] == False]"
      ],
      "execution_count": 39,
      "outputs": [
        {
          "output_type": "execute_result",
          "data": {
            "text/html": [
              "<div>\n",
              "<style scoped>\n",
              "    .dataframe tbody tr th:only-of-type {\n",
              "        vertical-align: middle;\n",
              "    }\n",
              "\n",
              "    .dataframe tbody tr th {\n",
              "        vertical-align: top;\n",
              "    }\n",
              "\n",
              "    .dataframe thead th {\n",
              "        text-align: right;\n",
              "    }\n",
              "</style>\n",
              "<table border=\"1\" class=\"dataframe\">\n",
              "  <thead>\n",
              "    <tr style=\"text-align: right;\">\n",
              "      <th></th>\n",
              "      <th>id</th>\n",
              "      <th>fullName</th>\n",
              "      <th>crypto</th>\n",
              "      <th>payinEnabled</th>\n",
              "      <th>payinPaymentId</th>\n",
              "      <th>payinConfirmations</th>\n",
              "      <th>payoutEnabled</th>\n",
              "      <th>payoutIsPaymentId</th>\n",
              "      <th>transferEnabled</th>\n",
              "      <th>delisted</th>\n",
              "      <th>payoutFee</th>\n",
              "      <th>payoutMinimalAmount</th>\n",
              "      <th>precisionPayout</th>\n",
              "      <th>precisionTransfer</th>\n",
              "    </tr>\n",
              "  </thead>\n",
              "  <tbody>\n",
              "    <tr>\n",
              "      <th>21</th>\n",
              "      <td>WTT</td>\n",
              "      <td>Giga Watt</td>\n",
              "      <td>False</td>\n",
              "      <td>False</td>\n",
              "      <td>False</td>\n",
              "      <td>2</td>\n",
              "      <td>False</td>\n",
              "      <td>True</td>\n",
              "      <td>True</td>\n",
              "      <td>False</td>\n",
              "      <td>0.89</td>\n",
              "      <td>0</td>\n",
              "      <td>8</td>\n",
              "      <td>8</td>\n",
              "    </tr>\n",
              "    <tr>\n",
              "      <th>35</th>\n",
              "      <td>CAT</td>\n",
              "      <td>CAT</td>\n",
              "      <td>False</td>\n",
              "      <td>False</td>\n",
              "      <td>False</td>\n",
              "      <td>10</td>\n",
              "      <td>True</td>\n",
              "      <td>False</td>\n",
              "      <td>True</td>\n",
              "      <td>False</td>\n",
              "      <td>26806.00</td>\n",
              "      <td>0</td>\n",
              "      <td>8</td>\n",
              "      <td>8</td>\n",
              "    </tr>\n",
              "    <tr>\n",
              "      <th>248</th>\n",
              "      <td>XDNCO</td>\n",
              "      <td>XDNCO</td>\n",
              "      <td>False</td>\n",
              "      <td>False</td>\n",
              "      <td>False</td>\n",
              "      <td>2</td>\n",
              "      <td>False</td>\n",
              "      <td>False</td>\n",
              "      <td>True</td>\n",
              "      <td>False</td>\n",
              "      <td>46.00</td>\n",
              "      <td>0</td>\n",
              "      <td>8</td>\n",
              "      <td>8</td>\n",
              "    </tr>\n",
              "  </tbody>\n",
              "</table>\n",
              "</div>"
            ],
            "text/plain": [
              "        id   fullName  ...  precisionPayout  precisionTransfer\n",
              "21     WTT  Giga Watt  ...                8                  8\n",
              "35     CAT        CAT  ...                8                  8\n",
              "248  XDNCO      XDNCO  ...                8                  8\n",
              "\n",
              "[3 rows x 14 columns]"
            ]
          },
          "metadata": {
            "tags": []
          },
          "execution_count": 39
        }
      ]
    },
    {
      "cell_type": "code",
      "metadata": {
        "id": "bMXM_BCcsHFK",
        "colab_type": "code",
        "colab": {}
      },
      "source": [
        ""
      ],
      "execution_count": null,
      "outputs": []
    }
  ]
}